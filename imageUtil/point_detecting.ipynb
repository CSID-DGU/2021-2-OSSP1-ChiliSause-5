{
 "cells": [
  {
   "cell_type": "code",
   "execution_count": 2,
   "id": "dbd3b7fe",
   "metadata": {},
   "outputs": [],
   "source": [
    "import cv2\n",
    "import dlib\n",
    "import numpy as np\n",
    "import os\n",
    "import imutils"
   ]
  },
  {
   "cell_type": "code",
   "execution_count": 3,
   "id": "9c2efaef",
   "metadata": {},
   "outputs": [],
   "source": [
    "os.chdir('D:\\pythonTest\\image')\n",
    "path = 'D:\\pythonTest\\image\\test1.jpg'\n",
    "\n",
    "#Initialize color [color_type] = (Blue, Green, Red)\n",
    "color_blue = (239,207,137)\n",
    "color_cyan = (255,200,0)\n",
    "color_black = (0, 0, 0)"
   ]
  },
  {
   "cell_type": "code",
   "execution_count": 4,
   "id": "bbcff2c0",
   "metadata": {},
   "outputs": [],
   "source": [
    "img= cv2.imread(r'D:\\pythonTest\\image\\test1.jpg')\n",
    "img = imutils.resize(img, width = 500)\n",
    "gray=cv2.cvtColor(img, cv2.COLOR_BGR2GRAY)"
   ]
  },
  {
   "cell_type": "code",
   "execution_count": 5,
   "id": "6bafad5c",
   "metadata": {},
   "outputs": [
    {
     "name": "stdout",
     "output_type": "stream",
     "text": [
      "rectangles[[(333, 70) (376, 113)], [(233, 90) (285, 141)], [(122, 103) (165, 146)]]\n",
      "Number of faces detected:  3\n"
     ]
    }
   ],
   "source": [
    "detector = dlib.get_frontal_face_detector()\n",
    "\n",
    "\"\"\"\n",
    "Detecting faces in the grayscale image and creating an object - faces to store the list of bounding rectangles coordinates\n",
    "The \"1\" in the second argument indicates that we should upsample the image 1 time.  \n",
    "This will make everything bigger and allow us to detect more faces\n",
    "\"\"\"\n",
    "\n",
    "faces = detector(gray, 1)\n",
    "\n",
    "# printing the coordinates of the bounding rectangles\n",
    "print(faces)\n",
    "print(\"Number of faces detected: \", len(faces))\n",
    "\n",
    "\n",
    "# Using a for loop in order to extract the specific coordinates (x1,x2,y1,y2)\n",
    "for face in faces:\n",
    "  x1 = face.left()\n",
    "  y1 = face.top()\n",
    "  x2 = face.right()\n",
    "  y2 = face.bottom()\n",
    "  # Drawing a rectangle around the face detected\n",
    "  cv2.rectangle(img, (x1,y1), (x2,y2),(0,255,0),3)\n",
    "cv2.imshow(\"image\", img)\n",
    "cv2.waitKey(0)\n",
    "cv2.destroyAllWindows()\n"
   ]
  },
  {
   "cell_type": "code",
   "execution_count": 6,
   "id": "8e4df32e",
   "metadata": {},
   "outputs": [],
   "source": [
    "p = \"D:\\pythonTest\\shape_predictor_68_face_landmarks.dat\"\n",
    "# Initialize dlib's shape predictor\n",
    "predictor = dlib.shape_predictor(p)\n",
    "\n",
    "# Get the shape using the predictor\n",
    "\n",
    "for face in faces:\n",
    "    landmarks = predictor(gray, face)\n",
    "\n",
    "    # for n in range(0,68):\n",
    "    #     x = landmarks.part(n).x\n",
    "    #     y = landmarks.part(n).y\n",
    "    #     img_landmark = cv2.circle(img, (x, y), 4, (0, 0, 255), -1)"
   ]
  },
  {
   "cell_type": "code",
   "execution_count": 6,
   "id": "eb87ee99",
   "metadata": {},
   "outputs": [
    {
     "name": "stdout",
     "output_type": "stream",
     "text": [
      "Saving output image to output/imagetest.jpg\n"
     ]
    },
    {
     "data": {
      "text/plain": [
       "False"
      ]
     },
     "execution_count": 6,
     "metadata": {},
     "output_type": "execute_result"
    }
   ],
   "source": [
    "    points = []\n",
    "    for i in range(1, 16):\n",
    "        point = [landmarks.part(i).x, landmarks.part(i).y]\n",
    "        points.append(point)\n",
    "    # print(points)\n",
    "\n",
    "    # Coordinates for the additional 3 points for wide, high coverage mask - in sequence\n",
    "    mask_a = [((landmarks.part(42).x), (landmarks.part(15).y)),\n",
    "              ((landmarks.part(27).x), (landmarks.part(27).y)),\n",
    "              ((landmarks.part(39).x), (landmarks.part(1).y))]\n",
    "\n",
    "    # Coordinates for the additional point for wide, medium coverage mask - in sequence\n",
    "    mask_c = [((landmarks.part(29).x), (landmarks.part(29).y))]\n",
    "\n",
    "    # Coordinates for the additional 5 points for wide, low coverage mask (lower nose points) - in sequence\n",
    "    mask_e = [((landmarks.part(35).x), (landmarks.part(35).y)),\n",
    "              ((landmarks.part(34).x), (landmarks.part(34).y)),\n",
    "              ((landmarks.part(33).x), (landmarks.part(33).y)),\n",
    "              ((landmarks.part(32).x), (landmarks.part(32).y)),\n",
    "              ((landmarks.part(31).x), (landmarks.part(31).y))]\n",
    "\n",
    "    fmask_a = points + mask_a\n",
    "    fmask_c = points + mask_c\n",
    "    fmask_e = points + mask_e\n",
    "\n",
    "    # mask_type = {1: fmask_a, 2: fmask_c, 3: fmask_e}\n",
    "    # mask_type[choice2]\n",
    "\n",
    "\n",
    "    # Using Python OpenCV – cv2.polylines() method to draw mask outline for [mask_type]:\n",
    "    # fmask_a = wide, high coverage mask,\n",
    "    # fmask_c = wide, medium coverage mask,\n",
    "    # fmask_e  = wide, low coverage mask\n",
    "\n",
    "    fmask_a = np.array(fmask_a, dtype=np.int32)\n",
    "    fmask_c = np.array(fmask_c, dtype=np.int32)\n",
    "    fmask_e = np.array(fmask_e, dtype=np.int32)\n",
    "\n",
    "    mask_type = {1: fmask_a, 2: fmask_c, 3: fmask_e}\n",
    "    mask_type[1]\n",
    "\n",
    "\n",
    "    # change parameter [mask_type] and color_type for various combination\n",
    "    img2 = cv2.polylines(img, [mask_type[1]], True, color_black, thickness=2, lineType=cv2.LINE_8)\n",
    "\n",
    "    # Using Python OpenCV – cv2.fillPoly() method to fill mask\n",
    "    # change parameter [mask_type] and color_type for various combination\n",
    "    img3 = cv2.fillPoly(img2, [mask_type[1]], color_black, lineType=cv2.LINE_AA)\n",
    "\n",
    "# cv2.imshow(\"image with mask outline\", img2)\n",
    "cv2.imshow(\"image with mask\", img3)\n",
    "\n",
    "#Save the output file for testing\n",
    "outputNameofImage = \"output/imagetest.jpg\"\n",
    "print(\"Saving output image to\", outputNameofImage)\n",
    "cv2.imwrite(outputNameofImage, img3)"
   ]
  },
  {
   "cell_type": "code",
   "execution_count": 7,
   "id": "8963ffc9",
   "metadata": {},
   "outputs": [],
   "source": [
    "    points = []\n",
    "    for i in range(1, 16):\n",
    "        point = [landmarks.part(i).x, landmarks.part(i).y]\n",
    "        points.append(point)\n",
    "    # print(points)\n",
    "\n",
    "    # Ellipse parameters for high, round coverage mask\n",
    "    top_ellipse = landmarks.part(27).y + (landmarks.part(28).y - landmarks.part(27).y) / 2\n",
    "    centre_x = landmarks.part(28).x\n",
    "    centre_y = landmarks.part(8).y - ((landmarks.part(8).y - (top_ellipse)) / 2)\n",
    "    # (height of ellipse)\n",
    "    axis_major = (landmarks.part(8).y - top_ellipse) / 2\n",
    "    # (width of ellipse)\n",
    "    axis_minor = ((landmarks.part(13).x - landmarks.part(3).x) * 0.8) / 2\n",
    "\n",
    "    centre_x = int(round(centre_x))\n",
    "    centre_y = int(round(centre_y))\n",
    "    axis_major = int(round(axis_major))\n",
    "    axis_minor = int(round(axis_minor))\n",
    "\n",
    "    centre = (centre_x, centre_y)\n",
    "    axes = (axis_major, axis_minor)\n",
    "\n",
    "    # Using Python OpenCV – cv2.ellipse() method to draw mask outline for mask\n",
    "    # change last parameter - line thickness and color_type for various combination\n",
    "    img_2 = cv2.ellipse(img, centre, axes, 0, 0, 360, color_black, thickness=2)\n",
    "\n",
    "\n",
    "\n",
    "    # Using Python OpenCV – cv2.ellipse() method to draw mask outline for mask\n",
    "    # change last parameter - line thickness to negative for fill and color_type for various combination\n",
    "    img_3 = cv2.ellipse(img, centre, axes, 0, 0, 360, color_black, thickness=-1)\n",
    "\n",
    "# cv2.imshow(\"image with mask outline\", img_2)\n",
    "cv2.imshow(\"image with mask\", img_3)"
   ]
  },
  {
   "cell_type": "code",
   "execution_count": null,
   "id": "34cb3b31",
   "metadata": {},
   "outputs": [],
   "source": []
  }
 ],
 "metadata": {
  "kernelspec": {
   "display_name": "Python 3 (ipykernel)",
   "language": "python",
   "name": "python3"
  },
  "language_info": {
   "codemirror_mode": {
    "name": "ipython",
    "version": 3
   },
   "file_extension": ".py",
   "mimetype": "text/x-python",
   "name": "python",
   "nbconvert_exporter": "python",
   "pygments_lexer": "ipython3",
   "version": "3.9.7"
  }
 },
 "nbformat": 4,
 "nbformat_minor": 5
}
