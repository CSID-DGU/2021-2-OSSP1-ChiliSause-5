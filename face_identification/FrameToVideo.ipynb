{
 "cells": [
  {
   "cell_type": "code",
   "execution_count": 1,
   "id": "86dbe6ef",
   "metadata": {},
   "outputs": [],
   "source": [
    "\"\"\"\n",
    "프레임 단위 영상을 동영상으로 변환하는 코드\n",
    "resultFps로 초당 프레임을 지정한다 \n",
    "\n",
    "input data : sample.mp4, frameN.jpg\n",
    "output data : result.mp4\n",
    "\"\"\"\n",
    "import cv2\n",
    "import numpy as np\n",
    "import glob\n",
    "import os\n",
    "\n",
    "resultFps=10\n",
    "img_array = []\n",
    "for filename in glob.glob('./frames/*.jpg'):\n",
    "    img = cv2.imread(filename)\n",
    "    height, width, layers = img.shape\n",
    "    size = (width,height)\n",
    "    img_array.append(img)\n",
    " \n",
    " \n",
    "out = cv2.VideoWriter('./result.mp4',cv2.VideoWriter_fourcc(*'DIVX'), resultFps, size)\n",
    " \n",
    "for i in range(len(img_array)):\n",
    "    out.write(img_array[i])\n",
    "out.release()"
   ]
  }
 ],
 "metadata": {
  "kernelspec": {
   "display_name": "CHG1",
   "language": "python",
   "name": "chg1"
  },
  "language_info": {
   "codemirror_mode": {
    "name": "ipython",
    "version": 3
   },
   "file_extension": ".py",
   "mimetype": "text/x-python",
   "name": "python",
   "nbconvert_exporter": "python",
   "pygments_lexer": "ipython3",
   "version": "3.9.7"
  }
 },
 "nbformat": 4,
 "nbformat_minor": 5
}
