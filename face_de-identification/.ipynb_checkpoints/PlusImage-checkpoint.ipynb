{
 "cells": [
  {
   "cell_type": "code",
   "execution_count": 1,
   "id": "73286a37",
   "metadata": {},
   "outputs": [
    {
     "name": "stdout",
     "output_type": "stream",
     "text": [
      "./faces/100000_face0.jpg\n",
      "100\n",
      "200\n",
      "./faces/100000_face1.jpg\n",
      "500\n",
      "300\n",
      "./faces/100000_face2.jpg\n",
      "900\n",
      "400\n",
      "./faces/100001_face0.jpg\n",
      "100\n",
      "200\n",
      "./faces/100001_face1.jpg\n",
      "500\n",
      "300\n",
      "./faces/100002_face0.jpg\n",
      "100\n",
      "200\n",
      "./faces/100002_face1.jpg\n",
      "500\n",
      "300\n"
     ]
    }
   ],
   "source": [
    "\"\"\"\n",
    "각 프레임에 얼굴을 합성하는 코드\n",
    "\n",
    "input data : 100000+N.jpg, 100000+N_faceM.jpg, face_coordinate.txt\n",
    "output data : 100000+N.jpg\n",
    "\"\"\"\n",
    "import cv2\n",
    "import os.path                 \n",
    "\n",
    "i=0\n",
    "\n",
    "f = open(\"./face_coordinate.txt\", 'r')\n",
    "while 1:\n",
    "    fileNum=100000+i\n",
    "    fileName = \"./frames/\"+str(fileNum)+\".jpg\"\n",
    "    if not os.path.isfile(fileName):\n",
    "        break\n",
    "    img = cv2.imread(fileName, 1)\n",
    "    \n",
    "    j=0\n",
    "    while 1:\n",
    "        faceName=\"./faces/\"+str(fileNum)+\"_face\"+str(j)+\".jpg\"\n",
    "        if not os.path.isfile(faceName):\n",
    "            break\n",
    "        print(faceName)\n",
    "        x=int(f.readline())\n",
    "        y=int(f.readline())\n",
    "        print(x)\n",
    "        print(y)\n",
    "        face = cv2.imread(faceName, 1)\n",
    "        h, w, c = face.shape\n",
    "        roi = img[y:y+h, x:x+w]\n",
    "        img[y:y+h, x:x+w] = face\n",
    "        j+=1    \n",
    "    cv2.imwrite(fileName, img)   \n",
    "    i+=1\n",
    "    \n",
    "cv2.waitKey(0)\n",
    "cv2.destroyAllWindows()\n"
   ]
  },
  {
   "cell_type": "code",
   "execution_count": null,
   "id": "1ce08d8f",
   "metadata": {},
   "outputs": [],
   "source": []
  },
  {
   "cell_type": "code",
   "execution_count": null,
   "id": "17ee5054",
   "metadata": {},
   "outputs": [],
   "source": []
  }
 ],
 "metadata": {
  "kernelspec": {
   "display_name": "CHG1",
   "language": "python",
   "name": "chg1"
  },
  "language_info": {
   "codemirror_mode": {
    "name": "ipython",
    "version": 3
   },
   "file_extension": ".py",
   "mimetype": "text/x-python",
   "name": "python",
   "nbconvert_exporter": "python",
   "pygments_lexer": "ipython3",
   "version": "3.9.7"
  }
 },
 "nbformat": 4,
 "nbformat_minor": 5
}
